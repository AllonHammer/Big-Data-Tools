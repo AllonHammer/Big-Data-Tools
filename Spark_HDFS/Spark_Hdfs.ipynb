{
 "cells": [
  {
   "cell_type": "code",
   "execution_count": 2,
   "metadata": {},
   "outputs": [],
   "source": [
    "from pyspark import SparkContext, SparkConf"
   ]
  },
  {
   "cell_type": "markdown",
   "metadata": {},
   "source": [
    "**Run Hadoop locally** \n",
    "we assume hadoop is installed locally in the homedir"
   ]
  },
  {
   "cell_type": "code",
   "execution_count": 3,
   "metadata": {},
   "outputs": [
    {
     "name": "stdout",
     "output_type": "stream",
     "text": [
      "This script is Deprecated. Instead use stop-dfs.sh and stop-yarn.sh\n",
      "Stopping namenodes on [localhost]\n",
      "localhost: ssh: connect to host localhost port 22: Connection refused\r\n",
      "localhost: ssh: connect to host localhost port 22: Connection refused\r\n",
      "Stopping secondary namenodes [0.0.0.0]\n",
      "0.0.0.0: ssh: connect to host 0.0.0.0 port 22: Connection refused\r\n",
      "stopping yarn daemons\n",
      "stopping resourcemanager\n",
      "localhost: ssh: connect to host localhost port 22: Connection refused\r\n",
      "no proxyserver to stop\n",
      "Formatting using clusterid: CID-273ab6a0-995a-4242-ad32-2de1753caf03\n",
      "namenode running as process 6193. Stop it first.\n",
      "datanode running as process 6288. Stop it first.\n",
      "starting resourcemanager, logging to /home/alon/hadoop-2.7.3/logs/yarn-alon-resourcemanager-alon-Latitude-E7450.out\n",
      "nodemanager running as process 6456. Stop it first.\n",
      "historyserver running as process 6653. Stop it first.\n",
      "6288 DataNode\n",
      "6193 NameNode\n",
      "3508 Main\n",
      "9508 Jps\n",
      "9428 ResourceManager\n",
      "6456 NodeManager\n",
      "6653 JobHistoryServer\n"
     ]
    },
    {
     "name": "stderr",
     "output_type": "stream",
     "text": [
      "DEPRECATED: Use of this script to execute hdfs command is deprecated.\n",
      "Instead use the hdfs command for it.\n",
      "\n",
      "19/05/30 11:52:16 INFO namenode.NameNode: STARTUP_MSG: \n",
      "/************************************************************\n",
      "STARTUP_MSG: Starting NameNode\n",
      "STARTUP_MSG:   host = alon-Latitude-E7450/127.0.1.1\n",
      "STARTUP_MSG:   args = [-format]\n",
      "STARTUP_MSG:   version = 2.7.3\n",
      "STARTUP_MSG:   classpath = /home/alon/hadoop-2.7.3/etc/hadoop:/home/alon/hadoop-2.7.3/share/hadoop/common/lib/zookeeper-3.4.6.jar:/home/alon/hadoop-2.7.3/share/hadoop/common/lib/snappy-java-1.0.4.1.jar:/home/alon/hadoop-2.7.3/share/hadoop/common/lib/log4j-1.2.17.jar:/home/alon/hadoop-2.7.3/share/hadoop/common/lib/commons-cli-1.2.jar:/home/alon/hadoop-2.7.3/share/hadoop/common/lib/paranamer-2.3.jar:/home/alon/hadoop-2.7.3/share/hadoop/common/lib/gson-2.2.4.jar:/home/alon/hadoop-2.7.3/share/hadoop/common/lib/curator-recipes-2.7.1.jar:/home/alon/hadoop-2.7.3/share/hadoop/common/lib/commons-logging-1.1.3.jar:/home/alon/hadoop-2.7.3/share/hadoop/common/lib/netty-3.6.2.Final.jar:/home/alon/hadoop-2.7.3/share/hadoop/common/lib/java-xmlbuilder-0.4.jar:/home/alon/hadoop-2.7.3/share/hadoop/common/lib/commons-lang-2.6.jar:/home/alon/hadoop-2.7.3/share/hadoop/common/lib/hadoop-annotations-2.7.3.jar:/home/alon/hadoop-2.7.3/share/hadoop/common/lib/jsp-api-2.1.jar:/home/alon/hadoop-2.7.3/share/hadoop/common/lib/slf4j-api-1.7.10.jar:/home/alon/hadoop-2.7.3/share/hadoop/common/lib/xmlenc-0.52.jar:/home/alon/hadoop-2.7.3/share/hadoop/common/lib/jackson-mapper-asl-1.9.13.jar:/home/alon/hadoop-2.7.3/share/hadoop/common/lib/jsch-0.1.42.jar:/home/alon/hadoop-2.7.3/share/hadoop/common/lib/stax-api-1.0-2.jar:/home/alon/hadoop-2.7.3/share/hadoop/common/lib/commons-configuration-1.6.jar:/home/alon/hadoop-2.7.3/share/hadoop/common/lib/api-util-1.0.0-M20.jar:/home/alon/hadoop-2.7.3/share/hadoop/common/lib/jackson-core-asl-1.9.13.jar:/home/alon/hadoop-2.7.3/share/hadoop/common/lib/mockito-all-1.8.5.jar:/home/alon/hadoop-2.7.3/share/hadoop/common/lib/protobuf-java-2.5.0.jar:/home/alon/hadoop-2.7.3/share/hadoop/common/lib/jets3t-0.9.0.jar:/home/alon/hadoop-2.7.3/share/hadoop/common/lib/activation-1.1.jar:/home/alon/hadoop-2.7.3/share/hadoop/common/lib/curator-client-2.7.1.jar:/home/alon/hadoop-2.7.3/share/hadoop/common/lib/guava-11.0.2.jar:/home/alon/hadoop-2.7.3/share/hadoop/common/lib/slf4j-log4j12-1.7.10.jar:/home/alon/hadoop-2.7.3/share/hadoop/common/lib/hadoop-auth-2.7.3.jar:/home/alon/hadoop-2.7.3/share/hadoop/common/lib/apacheds-i18n-2.0.0-M15.jar:/home/alon/hadoop-2.7.3/share/hadoop/common/lib/jaxb-impl-2.2.3-1.jar:/home/alon/hadoop-2.7.3/share/hadoop/common/lib/jettison-1.1.jar:/home/alon/hadoop-2.7.3/share/hadoop/common/lib/jersey-core-1.9.jar:/home/alon/hadoop-2.7.3/share/hadoop/common/lib/jackson-jaxrs-1.9.13.jar:/home/alon/hadoop-2.7.3/share/hadoop/common/lib/jsr305-3.0.0.jar:/home/alon/hadoop-2.7.3/share/hadoop/common/lib/jackson-xc-1.9.13.jar:/home/alon/hadoop-2.7.3/share/hadoop/common/lib/hamcrest-core-1.3.jar:/home/alon/hadoop-2.7.3/share/hadoop/common/lib/jersey-json-1.9.jar:/home/alon/hadoop-2.7.3/share/hadoop/common/lib/commons-compress-1.4.1.jar:/home/alon/hadoop-2.7.3/share/hadoop/common/lib/commons-beanutils-1.7.0.jar:/home/alon/hadoop-2.7.3/share/hadoop/common/lib/xz-1.0.jar:/home/alon/hadoop-2.7.3/share/hadoop/common/lib/api-asn1-api-1.0.0-M20.jar:/home/alon/hadoop-2.7.3/share/hadoop/common/lib/commons-codec-1.4.jar:/home/alon/hadoop-2.7.3/share/hadoop/common/lib/htrace-core-3.1.0-incubating.jar:/home/alon/hadoop-2.7.3/share/hadoop/common/lib/junit-4.11.jar:/home/alon/hadoop-2.7.3/share/hadoop/common/lib/commons-httpclient-3.1.jar:/home/alon/hadoop-2.7.3/share/hadoop/common/lib/commons-collections-3.2.2.jar:/home/alon/hadoop-2.7.3/share/hadoop/common/lib/commons-net-3.1.jar:/home/alon/hadoop-2.7.3/share/hadoop/common/lib/jersey-server-1.9.jar:/home/alon/hadoop-2.7.3/share/hadoop/common/lib/jaxb-api-2.2.2.jar:/home/alon/hadoop-2.7.3/share/hadoop/common/lib/commons-digester-1.8.jar:/home/alon/hadoop-2.7.3/share/hadoop/common/lib/commons-io-2.4.jar:/home/alon/hadoop-2.7.3/share/hadoop/common/lib/asm-3.2.jar:/home/alon/hadoop-2.7.3/share/hadoop/common/lib/avro-1.7.4.jar:/home/alon/hadoop-2.7.3/share/hadoop/common/lib/jetty-6.1.26.jar:/home/alon/hadoop-2.7.3/share/hadoop/common/lib/httpclient-4.2.5.jar:/home/alon/hadoop-2.7.3/share/hadoop/common/lib/servlet-api-2.5.jar:/home/alon/hadoop-2.7.3/share/hadoop/common/lib/apacheds-kerberos-codec-2.0.0-M15.jar:/home/alon/hadoop-2.7.3/share/hadoop/common/lib/commons-beanutils-core-1.8.0.jar:/home/alon/hadoop-2.7.3/share/hadoop/common/lib/commons-math3-3.1.1.jar:/home/alon/hadoop-2.7.3/share/hadoop/common/lib/httpcore-4.2.5.jar:/home/alon/hadoop-2.7.3/share/hadoop/common/lib/curator-framework-2.7.1.jar:/home/alon/hadoop-2.7.3/share/hadoop/common/lib/jetty-util-6.1.26.jar:/home/alon/hadoop-2.7.3/share/hadoop/common/hadoop-nfs-2.7.3.jar:/home/alon/hadoop-2.7.3/share/hadoop/common/hadoop-common-2.7.3.jar:/home/alon/hadoop-2.7.3/share/hadoop/common/hadoop-common-2.7.3-tests.jar:/home/alon/hadoop-2.7.3/share/hadoop/hdfs:/home/alon/hadoop-2.7.3/share/hadoop/hdfs/lib/log4j-1.2.17.jar:/home/alon/hadoop-2.7.3/share/hadoop/hdfs/lib/commons-cli-1.2.jar:/home/alon/hadoop-2.7.3/share/hadoop/hdfs/lib/commons-logging-1.1.3.jar:/home/alon/hadoop-2.7.3/share/hadoop/hdfs/lib/netty-3.6.2.Final.jar:/home/alon/hadoop-2.7.3/share/hadoop/hdfs/lib/xml-apis-1.3.04.jar:/home/alon/hadoop-2.7.3/share/hadoop/hdfs/lib/commons-lang-2.6.jar:/home/alon/hadoop-2.7.3/share/hadoop/hdfs/lib/xmlenc-0.52.jar:/home/alon/hadoop-2.7.3/share/hadoop/hdfs/lib/jackson-mapper-asl-1.9.13.jar:/home/alon/hadoop-2.7.3/share/hadoop/hdfs/lib/jackson-core-asl-1.9.13.jar:/home/alon/hadoop-2.7.3/share/hadoop/hdfs/lib/protobuf-java-2.5.0.jar:/home/alon/hadoop-2.7.3/share/hadoop/hdfs/lib/guava-11.0.2.jar:/home/alon/hadoop-2.7.3/share/hadoop/hdfs/lib/jersey-core-1.9.jar:/home/alon/hadoop-2.7.3/share/hadoop/hdfs/lib/commons-daemon-1.0.13.jar:/home/alon/hadoop-2.7.3/share/hadoop/hdfs/lib/xercesImpl-2.9.1.jar:/home/alon/hadoop-2.7.3/share/hadoop/hdfs/lib/jsr305-3.0.0.jar:/home/alon/hadoop-2.7.3/share/hadoop/hdfs/lib/commons-codec-1.4.jar:/home/alon/hadoop-2.7.3/share/hadoop/hdfs/lib/htrace-core-3.1.0-incubating.jar:/home/alon/hadoop-2.7.3/share/hadoop/hdfs/lib/jersey-server-1.9.jar:/home/alon/hadoop-2.7.3/share/hadoop/hdfs/lib/commons-io-2.4.jar:/home/alon/hadoop-2.7.3/share/hadoop/hdfs/lib/asm-3.2.jar:/home/alon/hadoop-2.7.3/share/hadoop/hdfs/lib/jetty-6.1.26.jar:/home/alon/hadoop-2.7.3/share/hadoop/hdfs/lib/leveldbjni-all-1.8.jar:/home/alon/hadoop-2.7.3/share/hadoop/hdfs/lib/servlet-api-2.5.jar:/home/alon/hadoop-2.7.3/share/hadoop/hdfs/lib/netty-all-4.0.23.Final.jar:/home/alon/hadoop-2.7.3/share/hadoop/hdfs/lib/jetty-util-6.1.26.jar:/home/alon/hadoop-2.7.3/share/hadoop/hdfs/hadoop-hdfs-2.7.3.jar:/home/alon/hadoop-2.7.3/share/hadoop/hdfs/hadoop-hdfs-2.7.3-tests.jar:/home/alon/hadoop-2.7.3/share/hadoop/hdfs/hadoop-hdfs-nfs-2.7.3.jar:/home/alon/hadoop-2.7.3/share/hadoop/yarn/lib/zookeeper-3.4.6.jar:/home/alon/hadoop-2.7.3/share/hadoop/yarn/lib/log4j-1.2.17.jar:/home/alon/hadoop-2.7.3/share/hadoop/yarn/lib/commons-cli-1.2.jar:/home/alon/hadoop-2.7.3/share/hadoop/yarn/lib/commons-logging-1.1.3.jar:/home/alon/hadoop-2.7.3/share/hadoop/yarn/lib/netty-3.6.2.Final.jar:/home/alon/hadoop-2.7.3/share/hadoop/yarn/lib/jersey-guice-1.9.jar:/home/alon/hadoop-2.7.3/share/hadoop/yarn/lib/commons-lang-2.6.jar:/home/alon/hadoop-2.7.3/share/hadoop/yarn/lib/jackson-mapper-asl-1.9.13.jar:/home/alon/hadoop-2.7.3/share/hadoop/yarn/lib/stax-api-1.0-2.jar:/home/alon/hadoop-2.7.3/share/hadoop/yarn/lib/jackson-core-asl-1.9.13.jar:/home/alon/hadoop-2.7.3/share/hadoop/yarn/lib/aopalliance-1.0.jar:/home/alon/hadoop-2.7.3/share/hadoop/yarn/lib/protobuf-java-2.5.0.jar:/home/alon/hadoop-2.7.3/share/hadoop/yarn/lib/activation-1.1.jar:/home/alon/hadoop-2.7.3/share/hadoop/yarn/lib/guava-11.0.2.jar:/home/alon/hadoop-2.7.3/share/hadoop/yarn/lib/guice-servlet-3.0.jar:/home/alon/hadoop-2.7.3/share/hadoop/yarn/lib/zookeeper-3.4.6-tests.jar:/home/alon/hadoop-2.7.3/share/hadoop/yarn/lib/jaxb-impl-2.2.3-1.jar:/home/alon/hadoop-2.7.3/share/hadoop/yarn/lib/guice-3.0.jar:/home/alon/hadoop-2.7.3/share/hadoop/yarn/lib/jersey-client-1.9.jar:/home/alon/hadoop-2.7.3/share/hadoop/yarn/lib/jettison-1.1.jar:/home/alon/hadoop-2.7.3/share/hadoop/yarn/lib/jersey-core-1.9.jar:/home/alon/hadoop-2.7.3/share/hadoop/yarn/lib/jackson-jaxrs-1.9.13.jar:/home/alon/hadoop-2.7.3/share/hadoop/yarn/lib/jsr305-3.0.0.jar:/home/alon/hadoop-2.7.3/share/hadoop/yarn/lib/jackson-xc-1.9.13.jar:/home/alon/hadoop-2.7.3/share/hadoop/yarn/lib/jersey-json-1.9.jar:/home/alon/hadoop-2.7.3/share/hadoop/yarn/lib/commons-compress-1.4.1.jar:/home/alon/hadoop-2.7.3/share/hadoop/yarn/lib/xz-1.0.jar:/home/alon/hadoop-2.7.3/share/hadoop/yarn/lib/commons-codec-1.4.jar:/home/alon/hadoop-2.7.3/share/hadoop/yarn/lib/commons-collections-3.2.2.jar:/home/alon/hadoop-2.7.3/share/hadoop/yarn/lib/jersey-server-1.9.jar:/home/alon/hadoop-2.7.3/share/hadoop/yarn/lib/jaxb-api-2.2.2.jar:/home/alon/hadoop-2.7.3/share/hadoop/yarn/lib/javax.inject-1.jar:/home/alon/hadoop-2.7.3/share/hadoop/yarn/lib/commons-io-2.4.jar:/home/alon/hadoop-2.7.3/share/hadoop/yarn/lib/asm-3.2.jar:/home/alon/hadoop-2.7.3/share/hadoop/yarn/lib/jetty-6.1.26.jar:/home/alon/hadoop-2.7.3/share/hadoop/yarn/lib/leveldbjni-all-1.8.jar:/home/alon/hadoop-2.7.3/share/hadoop/yarn/lib/servlet-api-2.5.jar:/home/alon/hadoop-2.7.3/share/hadoop/yarn/lib/jetty-util-6.1.26.jar:/home/alon/hadoop-2.7.3/share/hadoop/yarn/hadoop-yarn-server-sharedcachemanager-2.7.3.jar:/home/alon/hadoop-2.7.3/share/hadoop/yarn/hadoop-yarn-client-2.7.3.jar:/home/alon/hadoop-2.7.3/share/hadoop/yarn/hadoop-yarn-api-2.7.3.jar:/home/alon/hadoop-2.7.3/share/hadoop/yarn/hadoop-yarn-server-web-proxy-2.7.3.jar:/home/alon/hadoop-2.7.3/share/hadoop/yarn/hadoop-yarn-server-tests-2.7.3.jar:/home/alon/hadoop-2.7.3/share/hadoop/yarn/hadoop-yarn-server-resourcemanager-2.7.3.jar:/home/alon/hadoop-2.7.3/share/hadoop/yarn/hadoop-yarn-applications-unmanaged-am-launcher-2.7.3.jar:/home/alon/hadoop-2.7.3/share/hadoop/yarn/hadoop-yarn-server-common-2.7.3.jar:/home/alon/hadoop-2.7.3/share/hadoop/yarn/hadoop-yarn-common-2.7.3.jar:/home/alon/hadoop-2.7.3/share/hadoop/yarn/hadoop-yarn-server-nodemanager-2.7.3.jar:/home/alon/hadoop-2.7.3/share/hadoop/yarn/hadoop-yarn-applications-distributedshell-2.7.3.jar:/home/alon/hadoop-2.7.3/share/hadoop/yarn/hadoop-yarn-registry-2.7.3.jar:/home/alon/hadoop-2.7.3/share/hadoop/yarn/hadoop-yarn-server-applicationhistoryservice-2.7.3.jar:/home/alon/hadoop-2.7.3/share/hadoop/mapreduce/lib/snappy-java-1.0.4.1.jar:/home/alon/hadoop-2.7.3/share/hadoop/mapreduce/lib/log4j-1.2.17.jar:/home/alon/hadoop-2.7.3/share/hadoop/mapreduce/lib/paranamer-2.3.jar:/home/alon/hadoop-2.7.3/share/hadoop/mapreduce/lib/netty-3.6.2.Final.jar:/home/alon/hadoop-2.7.3/share/hadoop/mapreduce/lib/jersey-guice-1.9.jar:/home/alon/hadoop-2.7.3/share/hadoop/mapreduce/lib/hadoop-annotations-2.7.3.jar:/home/alon/hadoop-2.7.3/share/hadoop/mapreduce/lib/jackson-mapper-asl-1.9.13.jar:/home/alon/hadoop-2.7.3/share/hadoop/mapreduce/lib/jackson-core-asl-1.9.13.jar:/home/alon/hadoop-2.7.3/share/hadoop/mapreduce/lib/aopalliance-1.0.jar:/home/alon/hadoop-2.7.3/share/hadoop/mapreduce/lib/protobuf-java-2.5.0.jar:/home/alon/hadoop-2.7.3/share/hadoop/mapreduce/lib/guice-servlet-3.0.jar:/home/alon/hadoop-2.7.3/share/hadoop/mapreduce/lib/guice-3.0.jar:/home/alon/hadoop-2.7.3/share/hadoop/mapreduce/lib/jersey-core-1.9.jar:/home/alon/hadoop-2.7.3/share/hadoop/mapreduce/lib/hamcrest-core-1.3.jar:/home/alon/hadoop-2.7.3/share/hadoop/mapreduce/lib/commons-compress-1.4.1.jar:/home/alon/hadoop-2.7.3/share/hadoop/mapreduce/lib/xz-1.0.jar:/home/alon/hadoop-2.7.3/share/hadoop/mapreduce/lib/junit-4.11.jar:/home/alon/hadoop-2.7.3/share/hadoop/mapreduce/lib/jersey-server-1.9.jar:/home/alon/hadoop-2.7.3/share/hadoop/mapreduce/lib/javax.inject-1.jar:/home/alon/hadoop-2.7.3/share/hadoop/mapreduce/lib/commons-io-2.4.jar:/home/alon/hadoop-2.7.3/share/hadoop/mapreduce/lib/asm-3.2.jar:/home/alon/hadoop-2.7.3/share/hadoop/mapreduce/lib/avro-1.7.4.jar:/home/alon/hadoop-2.7.3/share/hadoop/mapreduce/lib/leveldbjni-all-1.8.jar:/home/alon/hadoop-2.7.3/share/hadoop/mapreduce/hadoop-mapreduce-client-hs-2.7.3.jar:/home/alon/hadoop-2.7.3/share/hadoop/mapreduce/hadoop-mapreduce-examples-2.7.3.jar:/home/alon/hadoop-2.7.3/share/hadoop/mapreduce/hadoop-mapreduce-client-shuffle-2.7.3.jar:/home/alon/hadoop-2.7.3/share/hadoop/mapreduce/hadoop-mapreduce-client-jobclient-2.7.3-tests.jar:/home/alon/hadoop-2.7.3/share/hadoop/mapreduce/hadoop-mapreduce-client-common-2.7.3.jar:/home/alon/hadoop-2.7.3/share/hadoop/mapreduce/hadoop-mapreduce-client-app-2.7.3.jar:/home/alon/hadoop-2.7.3/share/hadoop/mapreduce/hadoop-mapreduce-client-hs-plugins-2.7.3.jar:/home/alon/hadoop-2.7.3/share/hadoop/mapreduce/hadoop-mapreduce-client-core-2.7.3.jar:/home/alon/hadoop-2.7.3/share/hadoop/mapreduce/hadoop-mapreduce-client-jobclient-2.7.3.jar:/home/alon/hadoop-2.7.3/contrib/capacity-scheduler/*.jar:/home/alon/hadoop-2.7.3/contrib/capacity-scheduler/*.jar\n",
      "STARTUP_MSG:   build = https://git-wip-us.apache.org/repos/asf/hadoop.git -r baa91f7c6bc9cb92be5982de4719c1c8af91ccff; compiled by 'root' on 2016-08-18T01:41Z\n",
      "STARTUP_MSG:   java = 1.8.0_171\n",
      "************************************************************/\n",
      "19/05/30 11:52:16 INFO namenode.NameNode: registered UNIX signal handlers for [TERM, HUP, INT]\n",
      "19/05/30 11:52:16 INFO namenode.NameNode: createNameNode [-format]\n",
      "19/05/30 11:52:17 INFO namenode.FSNamesystem: No KeyProvider found.\n",
      "19/05/30 11:52:17 INFO namenode.FSNamesystem: fsLock is fair:true\n",
      "19/05/30 11:52:17 INFO blockmanagement.DatanodeManager: dfs.block.invalidate.limit=1000\n",
      "19/05/30 11:52:17 INFO blockmanagement.DatanodeManager: dfs.namenode.datanode.registration.ip-hostname-check=true\n",
      "19/05/30 11:52:17 INFO blockmanagement.BlockManager: dfs.namenode.startup.delay.block.deletion.sec is set to 000:00:00:00.000\n",
      "19/05/30 11:52:17 INFO blockmanagement.BlockManager: The block deletion will start around 2019 May 30 11:52:17\n",
      "19/05/30 11:52:17 INFO util.GSet: Computing capacity for map BlocksMap\n",
      "19/05/30 11:52:17 INFO util.GSet: VM type       = 64-bit\n",
      "19/05/30 11:52:17 INFO util.GSet: 2.0% max memory 889 MB = 17.8 MB\n",
      "19/05/30 11:52:17 INFO util.GSet: capacity      = 2^21 = 2097152 entries\n",
      "19/05/30 11:52:17 INFO blockmanagement.BlockManager: dfs.block.access.token.enable=false\n",
      "19/05/30 11:52:17 INFO blockmanagement.BlockManager: defaultReplication         = 1\n",
      "19/05/30 11:52:17 INFO blockmanagement.BlockManager: maxReplication             = 512\n",
      "19/05/30 11:52:17 INFO blockmanagement.BlockManager: minReplication             = 1\n",
      "19/05/30 11:52:17 INFO blockmanagement.BlockManager: maxReplicationStreams      = 2\n",
      "19/05/30 11:52:17 INFO blockmanagement.BlockManager: replicationRecheckInterval = 3000\n",
      "19/05/30 11:52:17 INFO blockmanagement.BlockManager: encryptDataTransfer        = false\n",
      "19/05/30 11:52:17 INFO blockmanagement.BlockManager: maxNumBlocksToLog          = 1000\n",
      "19/05/30 11:52:17 INFO namenode.FSNamesystem: fsOwner             = alon (auth:SIMPLE)\n",
      "19/05/30 11:52:17 INFO namenode.FSNamesystem: supergroup          = supergroup\n",
      "19/05/30 11:52:17 INFO namenode.FSNamesystem: isPermissionEnabled = true\n",
      "19/05/30 11:52:17 INFO namenode.FSNamesystem: HA Enabled: false\n",
      "19/05/30 11:52:17 INFO namenode.FSNamesystem: Append Enabled: true\n",
      "19/05/30 11:52:17 INFO util.GSet: Computing capacity for map INodeMap\n",
      "19/05/30 11:52:17 INFO util.GSet: VM type       = 64-bit\n",
      "19/05/30 11:52:17 INFO util.GSet: 1.0% max memory 889 MB = 8.9 MB\n",
      "19/05/30 11:52:17 INFO util.GSet: capacity      = 2^20 = 1048576 entries\n",
      "19/05/30 11:52:17 INFO namenode.FSDirectory: ACLs enabled? false\n",
      "19/05/30 11:52:17 INFO namenode.FSDirectory: XAttrs enabled? true\n",
      "19/05/30 11:52:17 INFO namenode.FSDirectory: Maximum size of an xattr: 16384\n",
      "19/05/30 11:52:17 INFO namenode.NameNode: Caching file names occuring more than 10 times\n",
      "19/05/30 11:52:17 INFO util.GSet: Computing capacity for map cachedBlocks\n",
      "19/05/30 11:52:17 INFO util.GSet: VM type       = 64-bit\n",
      "19/05/30 11:52:17 INFO util.GSet: 0.25% max memory 889 MB = 2.2 MB\n",
      "19/05/30 11:52:17 INFO util.GSet: capacity      = 2^18 = 262144 entries\n",
      "19/05/30 11:52:17 INFO namenode.FSNamesystem: dfs.namenode.safemode.threshold-pct = 0.9990000128746033\n",
      "19/05/30 11:52:17 INFO namenode.FSNamesystem: dfs.namenode.safemode.min.datanodes = 0\n",
      "19/05/30 11:52:17 INFO namenode.FSNamesystem: dfs.namenode.safemode.extension     = 30000\n",
      "19/05/30 11:52:17 INFO metrics.TopMetrics: NNTop conf: dfs.namenode.top.window.num.buckets = 10\n",
      "19/05/30 11:52:17 INFO metrics.TopMetrics: NNTop conf: dfs.namenode.top.num.users = 10\n",
      "19/05/30 11:52:17 INFO metrics.TopMetrics: NNTop conf: dfs.namenode.top.windows.minutes = 1,5,25\n",
      "19/05/30 11:52:17 INFO namenode.FSNamesystem: Retry cache on namenode is enabled\n",
      "19/05/30 11:52:17 INFO namenode.FSNamesystem: Retry cache will use 0.03 of total heap and retry cache entry expiry time is 600000 millis\n",
      "19/05/30 11:52:17 INFO util.GSet: Computing capacity for map NameNodeRetryCache\n",
      "19/05/30 11:52:17 INFO util.GSet: VM type       = 64-bit\n",
      "19/05/30 11:52:17 INFO util.GSet: 0.029999999329447746% max memory 889 MB = 273.1 KB\n",
      "19/05/30 11:52:17 INFO util.GSet: capacity      = 2^15 = 32768 entries\n",
      "Re-format filesystem in Storage Directory /tmp/hadoop-alon/dfs/name ? (Y or N) 19/05/30 11:52:17 INFO namenode.FSImage: Allocated new BlockPoolId: BP-785000043-127.0.1.1-1559206337734\n",
      "19/05/30 11:52:17 INFO common.Storage: Storage directory /tmp/hadoop-alon/dfs/name has been successfully formatted.\n",
      "19/05/30 11:52:17 INFO namenode.FSImageFormatProtobuf: Saving image file /tmp/hadoop-alon/dfs/name/current/fsimage.ckpt_0000000000000000000 using no compression\n",
      "19/05/30 11:52:17 INFO namenode.FSImageFormatProtobuf: Image file /tmp/hadoop-alon/dfs/name/current/fsimage.ckpt_0000000000000000000 of size 351 bytes saved in 0 seconds.\n",
      "19/05/30 11:52:17 INFO namenode.NNStorageRetentionManager: Going to retain 1 images with txid >= 0\n",
      "19/05/30 11:52:17 INFO util.ExitUtil: Exiting with status 0\n",
      "19/05/30 11:52:17 INFO namenode.NameNode: SHUTDOWN_MSG: \n",
      "/************************************************************\n",
      "SHUTDOWN_MSG: Shutting down NameNode at alon-Latitude-E7450/127.0.1.1\n",
      "************************************************************/\n"
     ]
    }
   ],
   "source": [
    "%%bash\n",
    "cd ~/hadoop-2.7.3/sbin \n",
    "./stop-all.sh \n",
    "yes | hadoop namenode -format \n",
    "./hadoop-daemon.sh start namenode \n",
    "./hadoop-daemon.sh start datanode\n",
    "./yarn-daemon.sh start resourcemanager\n",
    "./yarn-daemon.sh start nodemanager\n",
    "./mr-jobhistory-daemon.sh start historyserver\n",
    "jps\n"
   ]
  },
  {
   "cell_type": "markdown",
   "metadata": {},
   "source": [
    "**Configure Spark Session**"
   ]
  },
  {
   "cell_type": "code",
   "execution_count": 5,
   "metadata": {},
   "outputs": [],
   "source": [
    "SPARK_MASTER='local'\n",
    "SPARK_APP_NAME='HW2'\n",
    "SPARK_EXECUTOR_MEMORY='2g'\n",
    "SPARK_DRIVER_MEMORY='1g'\n",
    "SPARK_EXECUTOR_CORES='3'\n",
    "SPARK_CORES_MAX='4'"
   ]
  },
  {
   "cell_type": "code",
   "execution_count": 6,
   "metadata": {},
   "outputs": [],
   "source": [
    "conf = SparkConf().setMaster(SPARK_MASTER) \\\n",
    "                      .setAppName(SPARK_APP_NAME) \\\n",
    "                      .set(\"spark.executor.memory\", SPARK_EXECUTOR_MEMORY) \\\n",
    "                      .set('spark.executor.cores', SPARK_EXECUTOR_CORES) \\\n",
    "                      .set('spark.driver.memory',SPARK_DRIVER_MEMORY) \\\n",
    "                      .set('spark.cores.max', SPARK_CORES_MAX)"
   ]
  },
  {
   "cell_type": "code",
   "execution_count": 7,
   "metadata": {},
   "outputs": [],
   "source": [
    "sc=SparkContext(conf=conf)"
   ]
  },
  {
   "cell_type": "markdown",
   "metadata": {},
   "source": [
    "**It is also possible to run with the default configuration**"
   ]
  },
  {
   "cell_type": "code",
   "execution_count": 18,
   "metadata": {},
   "outputs": [],
   "source": [
    "sc=SparkContext()"
   ]
  },
  {
   "cell_type": "markdown",
   "metadata": {},
   "source": [
    "**Put data in HDFS**"
   ]
  },
  {
   "cell_type": "code",
   "execution_count": 14,
   "metadata": {},
   "outputs": [],
   "source": [
    "# I have loaded the data from the local fs to the ROOT directory in HDFS. \n",
    "#If it is not OK you can change the destination dir for example:  hdfs dfs -put ./data /user/stud3/HW2....\n",
    "!hdfs dfs -put ./data /data "
   ]
  },
  {
   "cell_type": "markdown",
   "metadata": {},
   "source": [
    "***Let's read the data from HDFS***"
   ]
  },
  {
   "cell_type": "code",
   "execution_count": 19,
   "metadata": {},
   "outputs": [],
   "source": [
    "rdd=sc.textFile('hdfs:/data/microsoft-com.data').map(lambda row: row.split(','))"
   ]
  },
  {
   "cell_type": "code",
   "execution_count": 20,
   "metadata": {},
   "outputs": [],
   "source": [
    "# No need for an RDD for such a small list\n",
    "countries = [line.rstrip('\\n') for line in open('./data/countries.txt', 'r')]"
   ]
  },
  {
   "cell_type": "markdown",
   "metadata": {},
   "source": [
    "***Parse the data according to the info file. Removing redundant field and cleaning the data***"
   ]
  },
  {
   "cell_type": "code",
   "execution_count": 21,
   "metadata": {},
   "outputs": [],
   "source": [
    "# Get all attribute (\"A\") lines with Vroots (areas of website) that match one of the countries in \"countries\" list\n",
    "attributes=rdd.filter(lambda x: x[0]=='A') \\\n",
    "               .map(lambda x: ((x[0],x[1],x[3].replace('\"', ''), x[4].replace('\"', '')))) \\\n",
    "               .filter(lambda x: x[2] in countries)"
   ]
  },
  {
   "cell_type": "code",
   "execution_count": 22,
   "metadata": {},
   "outputs": [],
   "source": [
    "# Get user interactions with these Vrooes\n",
    "votes=rdd.filter(lambda x: x[0]=='V') \\\n",
    "               .map(lambda x: ((x[0],x[1],x[2])))"
   ]
  },
  {
   "cell_type": "code",
   "execution_count": 24,
   "metadata": {},
   "outputs": [
    {
     "data": {
      "text/plain": [
       "[('V', '10001', '1000'), ('V', '10001', '1001')]"
      ]
     },
     "execution_count": 24,
     "metadata": {},
     "output_type": "execute_result"
    }
   ],
   "source": [
    "votes.take(2)"
   ]
  },
  {
   "cell_type": "code",
   "execution_count": 25,
   "metadata": {},
   "outputs": [
    {
     "data": {
      "text/plain": [
       "[('A', '1005', 'Norway', '/norge'), ('A', '1053', 'Jakarta', '/visualj')]"
      ]
     },
     "execution_count": 25,
     "metadata": {},
     "output_type": "execute_result"
    }
   ],
   "source": [
    "attributes.take(2)"
   ]
  },
  {
   "cell_type": "markdown",
   "metadata": {},
   "source": [
    "***Filter users that visited at least one page related to one of the given countries***"
   ]
  },
  {
   "cell_type": "code",
   "execution_count": 26,
   "metadata": {},
   "outputs": [],
   "source": [
    "#Could also do it with Data Frames, but we did not study it in class so I have implemented it with RDDs\n",
    "joinedRDD = votes.map(lambda x:(x[2],x[1])).join(attributes.map(lambda x:(x[1],(x[2],x[3])))) \\\n",
    "                 .map(lambda x:(x[1][0],  x[1][1][0], x[1][1][1]))\n"
   ]
  },
  {
   "cell_type": "code",
   "execution_count": 28,
   "metadata": {},
   "outputs": [
    {
     "data": {
      "text/plain": [
       "[('11035', 'Slovenija', '/slovenija'),\n",
       " ('19312', 'Slovenija', '/slovenija'),\n",
       " ('25278', 'Slovenija', '/slovenija'),\n",
       " ('25431', 'Slovenija', '/slovenija'),\n",
       " ('27083', 'Slovenija', '/slovenija'),\n",
       " ('27556', 'Slovenija', '/slovenija'),\n",
       " ('28362', 'Slovenija', '/slovenija'),\n",
       " ('33869', 'Slovenija', '/slovenija'),\n",
       " ('35728', 'Slovenija', '/slovenija'),\n",
       " ('12828', 'Finland', '/finland'),\n",
       " ('12840', 'Finland', '/finland'),\n",
       " ('13347', 'Finland', '/finland'),\n",
       " ('13837', 'Finland', '/finland'),\n",
       " ('16711', 'Finland', '/finland'),\n",
       " ('16996', 'Finland', '/finland'),\n",
       " ('18825', 'Finland', '/finland'),\n",
       " ('19327', 'Finland', '/finland'),\n",
       " ('20223', 'Finland', '/finland'),\n",
       " ('20286', 'Finland', '/finland'),\n",
       " ('20419', 'Finland', '/finland')]"
      ]
     },
     "execution_count": 28,
     "metadata": {},
     "output_type": "execute_result"
    }
   ],
   "source": [
    "joinedRDD.take(20)"
   ]
  },
  {
   "cell_type": "markdown",
   "metadata": {},
   "source": [
    "***Create report: For each country, the number of users that visited a page of that country***\n"
   ]
  },
  {
   "cell_type": "markdown",
   "metadata": {},
   "source": [
    "****Note: It is not mentioned to find the DISTINCT amount of users. each visit of a user to a country related page is counted as one, even if it is the same user****"
   ]
  },
  {
   "cell_type": "code",
   "execution_count": 29,
   "metadata": {},
   "outputs": [],
   "source": [
    "z=joinedRDD.map(lambda x: (x[1],1)).reduceByKey(lambda v1,v2: v1+v2 ).sortByKey()"
   ]
  },
  {
   "cell_type": "code",
   "execution_count": 30,
   "metadata": {},
   "outputs": [
    {
     "data": {
      "text/plain": [
       "[('Argentina', 32),\n",
       " ('Australia', 136),\n",
       " ('Belgium', 45),\n",
       " ('Brazil', 121),\n",
       " ('Canada', 128),\n",
       " ('Caribbean', 5),\n",
       " ('Chile', 4),\n",
       " ('China', 26),\n",
       " ('Colombia', 11),\n",
       " ('Czech Republic', 16),\n",
       " ('Denmark', 55),\n",
       " ('Finland', 29),\n",
       " ('France', 183),\n",
       " ('Germany', 372),\n",
       " ('Hong Kong', 35),\n",
       " ('Hungary', 15),\n",
       " ('India', 9),\n",
       " ('Ireland', 13),\n",
       " ('Israel', 34),\n",
       " ('Italy', 167),\n",
       " ('Jakarta', 670),\n",
       " ('Korea', 94),\n",
       " ('Mexico', 33),\n",
       " ('New Zealand', 10),\n",
       " ('Norway', 42),\n",
       " ('Peru', 3),\n",
       " ('Poland', 38),\n",
       " ('Portugal', 15),\n",
       " ('Russia', 52),\n",
       " ('Slovakia', 11),\n",
       " ('Slovenija', 9),\n",
       " ('South Africa', 19),\n",
       " ('Spain', 191),\n",
       " ('Sweden', 258),\n",
       " ('Switzerland', 31),\n",
       " ('Taiwan', 204),\n",
       " ('Thailand', 11),\n",
       " ('Turkey', 9),\n",
       " ('UK', 186),\n",
       " ('Uruguay', 4),\n",
       " ('Venezuela', 8)]"
      ]
     },
     "execution_count": 30,
     "metadata": {},
     "output_type": "execute_result"
    }
   ],
   "source": [
    "z.collect()"
   ]
  },
  {
   "cell_type": "markdown",
   "metadata": {},
   "source": [
    "***Top 5 visited Countries***"
   ]
  },
  {
   "cell_type": "code",
   "execution_count": 32,
   "metadata": {},
   "outputs": [
    {
     "data": {
      "text/plain": [
       "[(670, 'Jakarta'),\n",
       " (372, 'Germany'),\n",
       " (258, 'Sweden'),\n",
       " (204, 'Taiwan'),\n",
       " (191, 'Spain')]"
      ]
     },
     "execution_count": 32,
     "metadata": {},
     "output_type": "execute_result"
    }
   ],
   "source": [
    "z.map(lambda x: (x[1],x[0])).sortByKey(ascending=False).take(5)"
   ]
  },
  {
   "cell_type": "markdown",
   "metadata": {},
   "source": [
    "***Save the first reports to HDFS and then move to local fs***"
   ]
  },
  {
   "cell_type": "code",
   "execution_count": 33,
   "metadata": {},
   "outputs": [],
   "source": [
    "z.saveAsTextFile('hdfs:/data/users_per_country')"
   ]
  },
  {
   "cell_type": "code",
   "execution_count": 34,
   "metadata": {},
   "outputs": [],
   "source": [
    "!hdfs dfs -getmerge /data/users_per_country /home/alon/Downloads/_results_.txt"
   ]
  },
  {
   "cell_type": "markdown",
   "metadata": {},
   "source": [
    "*** Calculate Avg amount of Pages per User***"
   ]
  },
  {
   "cell_type": "code",
   "execution_count": 35,
   "metadata": {},
   "outputs": [],
   "source": [
    "#Assuming we want all of the pages of the users, not just the one with countries\n",
    "pagesPerUser=votes.map(lambda x: (x[1],1)).reduceByKey(lambda a,b: a+b)"
   ]
  },
  {
   "cell_type": "code",
   "execution_count": 36,
   "metadata": {},
   "outputs": [],
   "source": [
    "# Calculate sum of pages and count of pages in an efficient map reduce way\n",
    "sumPages, cntPages = pagesPerUser.map(lambda x: (x[1],1)).reduce(lambda a,b : (a[0]+b[0], a[1]+b[1]))"
   ]
  },
  {
   "cell_type": "code",
   "execution_count": 37,
   "metadata": {},
   "outputs": [
    {
     "name": "stdout",
     "output_type": "stream",
     "text": [
      "Avg pages per user is  3.015927363883709\n"
     ]
    }
   ],
   "source": [
    "print('Avg pages per user is ', sumPages/cntPages)"
   ]
  },
  {
   "cell_type": "markdown",
   "metadata": {},
   "source": [
    "***Calculate Maximum pages per user***"
   ]
  },
  {
   "cell_type": "code",
   "execution_count": 38,
   "metadata": {},
   "outputs": [
    {
     "data": {
      "text/plain": [
       "('40310', 35)"
      ]
     },
     "execution_count": 38,
     "metadata": {},
     "output_type": "execute_result"
    }
   ],
   "source": [
    "# Get the user with the maximum pages, and the number of the pages he had\n",
    "pagesPerUser.reduce(lambda a, b: a if a[1] > b[1] else b)"
   ]
  },
  {
   "cell_type": "markdown",
   "metadata": {},
   "source": [
    "***Remove directory from HDFS***"
   ]
  },
  {
   "cell_type": "code",
   "execution_count": 39,
   "metadata": {},
   "outputs": [
    {
     "name": "stdout",
     "output_type": "stream",
     "text": [
      "19/05/30 11:40:00 INFO fs.TrashPolicyDefault: Namenode trash configuration: Deletion interval = 0 minutes, Emptier interval = 0 minutes.\n",
      "Deleted /data\n"
     ]
    }
   ],
   "source": [
    "!hdfs dfs -rm -r /data"
   ]
  },
  {
   "cell_type": "code",
   "execution_count": 40,
   "metadata": {},
   "outputs": [
    {
     "name": "stdout",
     "output_type": "stream",
     "text": [
      "Found 1 items\r\n",
      "drwxrwx---   - alon supergroup          0 2019-05-30 11:11 /tmp\r\n"
     ]
    }
   ],
   "source": [
    "!hdfs dfs -ls  /"
   ]
  },
  {
   "cell_type": "code",
   "execution_count": null,
   "metadata": {},
   "outputs": [],
   "source": []
  }
 ],
 "metadata": {
  "kernelspec": {
   "display_name": "Python 3",
   "language": "python",
   "name": "python3"
  },
  "language_info": {
   "codemirror_mode": {
    "name": "ipython",
    "version": 3
   },
   "file_extension": ".py",
   "mimetype": "text/x-python",
   "name": "python",
   "nbconvert_exporter": "python",
   "pygments_lexer": "ipython3",
   "version": "3.5.3"
  }
 },
 "nbformat": 4,
 "nbformat_minor": 2
}
