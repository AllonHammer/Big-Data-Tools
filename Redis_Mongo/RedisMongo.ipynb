{
 "cells": [
  {
   "cell_type": "code",
   "execution_count": 807,
   "metadata": {},
   "outputs": [],
   "source": [
    "import redis\n",
    "from pymongo import MongoClient, ASCENDING\n",
    "from dateutil.parser import parse\n",
    "from datetime import datetime, timedelta\n",
    "import pprint\n",
    "import os\n",
    "from termcolor import colored\n",
    "import warnings\n",
    "warnings.filterwarnings('ignore')"
   ]
  },
  {
   "cell_type": "markdown",
   "metadata": {},
   "source": [
    "Hi, welcome to the Mongo-Redis assignment.\n",
    "For some reason I could not activate the Jupyter notebook via VPN (neither with tunneling to localhost or on the server itself).\n",
    "Therefore, I installed redis and mongo locally instead (Redis server v=5.0.4, MongoDB shell version v4.0.9)\n"
   ]
  },
  {
   "cell_type": "code",
   "execution_count": 774,
   "metadata": {},
   "outputs": [
    {
     "data": {
      "text/plain": [
       "0"
      ]
     },
     "execution_count": 774,
     "metadata": {},
     "output_type": "execute_result"
    }
   ],
   "source": [
    "# Runs redis-server in the background. This phase is not needed when connecting from university.\n",
    "os.system(\"nohup redis-server &>/dev/null &\")"
   ]
  },
  {
   "cell_type": "code",
   "execution_count": 772,
   "metadata": {},
   "outputs": [],
   "source": [
    "# Create redis client\n",
    "r = redis.Redis(host='localhost', port=6379, db=0)"
   ]
  },
  {
   "cell_type": "code",
   "execution_count": 775,
   "metadata": {},
   "outputs": [],
   "source": [
    "# Create Mongo client, When connecting from university just use client=MongoClient()\n",
    "client=MongoClient(host='localhost', username='mongo',password='mongo') "
   ]
  },
  {
   "cell_type": "code",
   "execution_count": 776,
   "metadata": {},
   "outputs": [
    {
     "data": {
      "text/plain": [
       "['admin', 'config', 'local']"
      ]
     },
     "execution_count": 776,
     "metadata": {},
     "output_type": "execute_result"
    }
   ],
   "source": [
    "client.list_database_names()"
   ]
  },
  {
   "cell_type": "code",
   "execution_count": 777,
   "metadata": {},
   "outputs": [],
   "source": [
    "db = client['admin']"
   ]
  },
  {
   "cell_type": "code",
   "execution_count": 778,
   "metadata": {},
   "outputs": [
    {
     "data": {
      "text/plain": [
       "['system.users', 'test', 'jobs', 'system.version']"
      ]
     },
     "execution_count": 778,
     "metadata": {},
     "output_type": "execute_result"
    }
   ],
   "source": [
    "db.list_collection_names()"
   ]
  },
  {
   "cell_type": "markdown",
   "metadata": {},
   "source": [
    "An important note about collections (and databases) in MongoDB is that they are created lazily - \n",
    "none of the above commands have actually performed any operations on the MongoDB server. \n",
    "Collections and databases are created when the first document is inserted into them.\n"
   ]
  },
  {
   "cell_type": "code",
   "execution_count": 781,
   "metadata": {},
   "outputs": [],
   "source": [
    "collection=db['jobs']"
   ]
  },
  {
   "cell_type": "code",
   "execution_count": 782,
   "metadata": {},
   "outputs": [
    {
     "data": {
      "text/plain": [
       "'jobList.jobId_1'"
      ]
     },
     "execution_count": 782,
     "metadata": {},
     "output_type": "execute_result"
    }
   ],
   "source": [
    "# Create jobID index for speeding up queries and also make sure this value is unique per comapny. \n",
    "# The partialFilterExpression helps us to ignore duplicate keys of job_id=NULL\n",
    "collection.create_index([('jobList.jobId', ASCENDING)],unique=True, \n",
    "                        partialFilterExpression= {'jobList.jobId': {'$type': \"string\"}} ) \n",
    "\n"
   ]
  },
  {
   "cell_type": "code",
   "execution_count": 783,
   "metadata": {},
   "outputs": [],
   "source": [
    "def clear_collection():\n",
    "    collection.drop()"
   ]
  },
  {
   "cell_type": "code",
   "execution_count": 784,
   "metadata": {},
   "outputs": [],
   "source": [
    "def clear_cache():\n",
    "    r.flushdb()"
   ]
  },
  {
   "cell_type": "code",
   "execution_count": 785,
   "metadata": {},
   "outputs": [],
   "source": [
    "def list_collection():\n",
    "    \"\"\"prints the entire content of persistent data in MongoDB\"\"\"\n",
    "\n",
    "    for item in collection.find():\n",
    "        pprint.pprint(item) "
   ]
  },
  {
   "cell_type": "code",
   "execution_count": 786,
   "metadata": {},
   "outputs": [],
   "source": [
    "def list_cache():\n",
    "    \"\"\"prints the entire content of the cache\"\"\"\n",
    "    \n",
    "    for k in r.scan_iter():\n",
    "        if r.type(k)==b'zset':\n",
    "            print('This is a sorted Array. The key is {} the value is {}'.format(k, r.zrevrange(k,0,-1)))\n",
    "        if r.type(k)==b'string':\n",
    "            print('This is a regular key. The key is {} the value is {}'.format(k, r.get(k)))"
   ]
  },
  {
   "cell_type": "code",
   "execution_count": 787,
   "metadata": {},
   "outputs": [],
   "source": [
    "def add_company(company):\n",
    "    \"\"\" Adds company to collection if not exists\"\"\"\n",
    "    \n",
    "    response=collection.update({\"companyName\": company[\"companyName\"]}, company, upsert=True)\n"
   ]
  },
  {
   "cell_type": "code",
   "execution_count": 788,
   "metadata": {},
   "outputs": [],
   "source": [
    "def add_job(job, company_name):\n",
    "    \"\"\" Adds job to joblist of company \"\"\"\n",
    "\n",
    "    #Check if company name exists in the collection if not raise 'exception' and return\n",
    "    response=collection.find_one({\"companyName\": company_name})\n",
    "    if response is None:\n",
    "        print ('Invalid Company Name: {}'.format(company_name))\n",
    "        print ('Valid Company Names are ')\n",
    "        print([x['companyName'] for x in collection.find({\"Entity\": \"Company\"})])\n",
    "        return\n",
    "    #hold incrementing job ids per comapny in cache \n",
    "    r.incr(company_name,1) if r.exists(company_name) else r.set(company_name,1)\n",
    "    job['jobId']='{}_{}'.format(company_name,int(r.get(company_name)))\n",
    "    # update collection with the new job list for comapny\n",
    "    collection.update({\"companyName\": company_name},  {\"$push\": {\"jobsList\": job}})\n",
    "    "
   ]
  },
  {
   "cell_type": "code",
   "execution_count": 789,
   "metadata": {},
   "outputs": [],
   "source": [
    "def application(candidate, application_time, job_id):\n",
    "    \"\"\" Adds candidate to candidatelist of jobs. \n",
    "        ***Please mind that the default string for application time is YYYY-DD-MM **** \"\"\"\n",
    "    \n",
    "    #Check if candidate email exists in current job_id\n",
    "    response=collection.find_one({\"jobsList\": {\"$elemMatch\": {\"jobId\": job_id, 'candidateList.Email': candidate['Email']}}})\n",
    "    if response:\n",
    "        print('{} Has already registered for this position'.format(candidate['Email']))\n",
    "        return\n",
    "    #Check if application_time is a valid date\n",
    "    try:\n",
    "        updated_at=parse(application_time)\n",
    "    except ValueError:\n",
    "        updated_at=datetime.now()\n",
    "    candidate['updatedAt']=updated_at\n",
    "    # update collection with the new candidae candidate list for the job\n",
    "    collection.update({\"jobsList\": {\"$elemMatch\": {\"jobId\": job_id}}}, {\"$addToSet\": {\"jobsList.$.candidateList\": candidate}}, upsert=False)\n",
    "    # update cache, applications per candidate\n",
    "    current_company=collection.find_one({\"jobsList\": {\"$elemMatch\": {\"jobId\": job_id}}}, {\"_id\":0, \"companyName\":1})['companyName']\n",
    "    r.zadd(candidate['Email'], {current_company:updated_at.timestamp()}) \n"
   ]
  },
  {
   "cell_type": "code",
   "execution_count": 790,
   "metadata": {},
   "outputs": [],
   "source": [
    "def show_latest_apply(k, candidate_email):\n",
    "    \"\"\"  Print the k ordered latest company the candidate applied to. If the candidate applied to less than k companies returen all of the companies\"\"\"\n",
    "\n",
    "    assert k>=1 and type(k)==int, \"Input k>=1 and type(k)==int\"\n",
    "    result=r.zrevrange(candidate_email,0,k-1)\n",
    "    if result==[]:\n",
    "        print('No such candidate {}'.format(candidate_email))\n",
    "        return\n",
    "    print('The latest companies that the candidate {} applied to'.format(candidate_email))\n",
    "    print(r.zrevrange(candidate_email,0,k-1))"
   ]
  },
  {
   "cell_type": "code",
   "execution_count": 791,
   "metadata": {},
   "outputs": [],
   "source": [
    "def show_candidates(job_id, skills):\n",
    "    \"\"\"Print candidates’ emails that applied for a given position and have the specified skills.\"\"\"\n",
    "    \n",
    "    response=collection.aggregate([\n",
    "        {'$match':   {\"jobsList\": {\"$elemMatch\": {\"jobId\": job_id}} , \n",
    "                    'jobsList.candidateList.skills': {\"$all\":  skills}}}, #match job_id and requiered skills (reduces number of computations)\n",
    "        {'$project': {\"jobsList\":  1, \"_id\":0}}, #select joblist\n",
    "        {'$unwind': '$jobsList'}, #explode joblist array\n",
    "        {'$match':   {\"jobsList.jobId\": job_id}}, #match job_id\n",
    "        {'$project': {\"jobsList.candidateList\":  1, \"_id\":0}}, #select candidate list\n",
    "        {'$unwind': '$jobsList.candidateList'}, #explode candidate list array\n",
    "        {'$match':   {'jobsList.candidateList.skills': {\"$all\":  skills}}}, #match candidates that have all skills requiered\n",
    "        {'$project': {\"jobsList.candidateList.Email\":  1, \"_id\":0}} #select email\n",
    "                                  ])\n",
    "    print('List of Candidates that have the requiered skills for the job')\n",
    "    for item in response:\n",
    "        pprint.pprint(item['jobsList']['candidateList']['Email'])\n",
    "    \n",
    "\n",
    "\n",
    "      "
   ]
  },
  {
   "cell_type": "code",
   "execution_count": 792,
   "metadata": {},
   "outputs": [],
   "source": [
    "def count_jobs_by_company():\n",
    "    \"\"\" counts how many jobs have been posted for each company name \"\"\"\n",
    "\n",
    "    for k in r.scan_iter(): #We simply need to retrieve from cache\n",
    "        if r.type(k)==b'string': #check that the key is from type string and not Set for example\n",
    "            print('Company Name: {}. Number of jobs: {}'.format(k.decode('utf-8'), int(r.get(k))))"
   ]
  },
  {
   "cell_type": "code",
   "execution_count": 793,
   "metadata": {},
   "outputs": [],
   "source": [
    "def count_candidates_by_job():\n",
    "    \"\"\"counts how many candidates have for each Job ID during the last 30 days\"\"\"\n",
    "    \n",
    "    filter_date=datetime.now() + timedelta(-30) # Get date 30 days ago\n",
    "    result=collection.aggregate([ {'$match': {'jobsList.candidateList.updatedAt': {'$gte': filter_date} }}, #match candidates who submitted for a job in the past 30 days (reduces number of computations)\n",
    "                              {\"$unwind\": \"$jobsList\"},  #explode job array\n",
    "                              {'$project': {\"jobsList\":  1,  \"_id\":0}}, #select joblist only\n",
    "                              {\"$unwind\": \"$jobsList.candidateList\"}, #explode candidate list\n",
    "                              {'$project': {\"jobsList.candidateList\":  1, \"jobsList.jobId\":1, \"_id\":0}}, #select job_id and candidate list only\n",
    "                              {'$match': {'jobsList.candidateList.updatedAt': {'$gte': filter_date} }}, #match candidates who submitted for a job in the past 30 days\n",
    "                              {\"$group\": {\"_id\": \"$jobsList.jobId\", 'numOfCandidatesLastMonth': { '$sum': 1 }}} #group by jobId, count number of candidates\n",
    "                             \n",
    "                            ])\n",
    "    for item in result:\n",
    "        pprint.pprint(item)\n",
    "    \n",
    "    \n",
    "    "
   ]
  },
  {
   "cell_type": "code",
   "execution_count": 794,
   "metadata": {},
   "outputs": [],
   "source": [
    "def recovery():\n",
    "    \"\"\" should be executed whenever the Redis server restarts (for example\n",
    "    after a server crash like power failure). This function will use the persistent data (stored on MongoDB) to\n",
    "    reload data to the cache (Redis) \"\"\"\n",
    "    \n",
    "    # Aggregate number of jobs per company from persistant data \n",
    "    result=collection.aggregate([{\"$unwind\": \"$jobsList\"}, \n",
    "                          {\"$group\": {\"_id\": \"$companyName\", 'numOfJobs': { '$sum': 1 }}}])\n",
    "    clear_cache() #makes sure cache is clear\n",
    "    for item in result: #push to cache\n",
    "        r.set(item['_id'], item['numOfJobs'])\n",
    "    # Aggregate Company per candidate sorted by applicatino date\n",
    "    result=collection.aggregate([\n",
    "                        {\"$unwind\": \"$jobsList\"}, #explode job array\n",
    "                        {\"$unwind\": \"$jobsList.candidateList\"}, #explode candidate array\n",
    "                        {'$project': {'companyName':1 ,'jobsList.candidateList.Email':1, 'jobsList.candidateList.updatedAt':1,'_id':0}},\n",
    "                        {'$group': {\"_id\": {'candidate': '$jobsList.candidateList.Email', 'company': '$companyName'},\n",
    "                                   'min_date': {'$min': '$jobsList.candidateList.updatedAt'}}}, #group by candidate, company , aggregate minimum application date\n",
    "                        {'$sort': {'_id':1, 'min_date':1}}]) #sort in asceding order\n",
    "    \n",
    "    for item in result: #push to cache\n",
    "        r.zadd(item['_id']['candidate'], {item['_id']['company']:item['min_date'].timestamp()})\n",
    "    \n",
    "    "
   ]
  },
  {
   "cell_type": "code",
   "execution_count": 820,
   "metadata": {},
   "outputs": [],
   "source": [
    "def execute():\n",
    "    \"\"\"calls all functions with the arguments that are given in the examples\"\"\"\n",
    "    \n",
    "    clear_cache()\n",
    "    clear_collection()\n",
    "    add_company({'companyName':'TAU', 'companyDescription':'University'})\n",
    "    print(colored('**********************************************', 'cyan', 'on_white', ['blink']))\n",
    "    print(colored(' We expect to see the new company in the db', 'cyan', 'on_yellow', ['bold']))\n",
    "    print('\\n'*3)\n",
    "    list_collection()\n",
    "    print('\\n'*2)\n",
    "    print(colored('**********************************************', 'cyan', 'on_white', ['blink']))\n",
    "    add_job({'jobName':'bi developer', 'publishDate': 'Tel Aviv', 'skills':['python','big data','mongodb'],\n",
    "             'Status':'open','publishDate':'01-02-2019'},'TAU')\n",
    "    print(colored(' We expect to see the bi_developer job added to TAU', 'cyan', 'on_yellow', ['bold']))\n",
    "    print('\\n'*3)\n",
    "    list_collection()\n",
    "    print('\\n'*2)\n",
    "    print(colored('**********************************************', 'cyan', 'on_white', ['blink']))\n",
    "    application({'candidateName':'laura', 'Email':'laura@gmail.com', \n",
    "                 'linkedin':'https://www.linkedin.com/in/laura/', 'skills': ['python','sql']}, '01-02-2019 15:00:00', 'TAU_1')\n",
    "    print(colored(' We expect to see laura added to the candidate list', 'cyan', 'on_yellow', ['bold']))\n",
    "    print('\\n'*3)\n",
    "    list_collection()\n",
    "    print('\\n'*2)\n",
    "    print(colored('**********************************************', 'cyan', 'on_white', ['blink']))\n",
    "    print(colored(' We expect to see that laura only applied to TAU', 'cyan', 'on_yellow', ['bold']))\n",
    "    print('\\n'*3)\n",
    "    show_latest_apply(10, 'laura@gmail.com')\n",
    "    print('\\n'*2)\n",
    "    print(colored('**********************************************', 'cyan', 'on_white', ['blink']))\n",
    "    print(colored(' We expect to see that laura has the skills', 'cyan', 'on_yellow', ['bold']))\n",
    "    print('\\n'*3)\n",
    "    show_candidates('TAU_1', ['python','sql'])\n",
    "    print('\\n'*2)\n",
    "    print(colored('**********************************************', 'cyan', 'on_white', ['blink']))\n",
    "    print(colored(' We expect to see that TAU has one job', 'cyan', 'on_yellow', ['bold']))\n",
    "    print('\\n'*3)\n",
    "    count_jobs_by_company()\n",
    "    print('\\n'*2)\n",
    "    print(colored('**********************************************', 'cyan', 'on_white', ['blink']))\n",
    "    print(colored(\"\"\"Laura's application was more than 30 days ago, so we will not see any candidates per job, But if you\n",
    "         will change the application date to '17-04-2019' you will see results. just make sure that if you give this\n",
    "         date '04-03-2019' it means April 3rd not March 4th!\"\"\", 'cyan', 'on_yellow', ['bold']))\n",
    "    print('\\n'*3)\n",
    "    count_candidates_by_job()\n",
    "    print('\\n'*2)\n",
    "    print(colored('**********************************************', 'cyan', 'on_white', ['blink']))\n",
    "    print(colored(' This is how the cache looks like at the moment', 'cyan', 'on_yellow', ['bold']))\n",
    "    print('\\n'*3)\n",
    "    list_cache()\n",
    "    print('\\n'*2)\n",
    "    print(colored('**********************************************', 'cyan', 'on_white', ['blink']))\n",
    "    print(colored(' Now lets clear it and use the recovery function', 'cyan', 'on_yellow', ['bold']))\n",
    "    clear_cache()\n",
    "    recovery()\n",
    "    print('\\n'*3)\n",
    "    list_cache()\n",
    "    print(colored('**********************************************', 'cyan', 'on_white', ['blink']))\n",
    "    print(colored(' Were back to business! Hope you enjoyed', 'cyan', 'on_yellow', ['bold']))\n",
    "\n",
    "    \n",
    "\n",
    "\n"
   ]
  },
  {
   "cell_type": "code",
   "execution_count": 821,
   "metadata": {},
   "outputs": [
    {
     "name": "stdout",
     "output_type": "stream",
     "text": [
      "\u001b[5m\u001b[47m\u001b[36m**********************************************\u001b[0m\n",
      "\u001b[1m\u001b[43m\u001b[36m We expect to see the new company in the db\u001b[0m\n",
      "\n",
      "\n",
      "\n",
      "\n",
      "{'_id': ObjectId('5cb6ff47cea9397f17474e43'),\n",
      " 'companyDescription': 'University',\n",
      " 'companyName': 'TAU'}\n",
      "\n",
      "\n",
      "\n",
      "\u001b[5m\u001b[47m\u001b[36m**********************************************\u001b[0m\n",
      "\u001b[1m\u001b[43m\u001b[36m We expect to see the bi_developer job added to TAU\u001b[0m\n",
      "\n",
      "\n",
      "\n",
      "\n",
      "{'_id': ObjectId('5cb6ff47cea9397f17474e43'),\n",
      " 'companyDescription': 'University',\n",
      " 'companyName': 'TAU',\n",
      " 'jobsList': [{'Status': 'open',\n",
      "               'jobId': 'TAU_1',\n",
      "               'jobName': 'bi developer',\n",
      "               'publishDate': '01-02-2019',\n",
      "               'skills': ['python', 'big data', 'mongodb']}]}\n",
      "\n",
      "\n",
      "\n",
      "\u001b[5m\u001b[47m\u001b[36m**********************************************\u001b[0m\n",
      "\u001b[1m\u001b[43m\u001b[36m We expect to see laura added to the candidate list\u001b[0m\n",
      "\n",
      "\n",
      "\n",
      "\n",
      "{'_id': ObjectId('5cb6ff47cea9397f17474e43'),\n",
      " 'companyDescription': 'University',\n",
      " 'companyName': 'TAU',\n",
      " 'jobsList': [{'Status': 'open',\n",
      "               'candidateList': [{'Email': 'laura@gmail.com',\n",
      "                                  'candidateName': 'laura',\n",
      "                                  'linkedin': 'https://www.linkedin.com/in/laura/',\n",
      "                                  'skills': ['python', 'sql'],\n",
      "                                  'updatedAt': datetime.datetime(2019, 1, 2, 15, 0)}],\n",
      "               'jobId': 'TAU_1',\n",
      "               'jobName': 'bi developer',\n",
      "               'publishDate': '01-02-2019',\n",
      "               'skills': ['python', 'big data', 'mongodb']}]}\n",
      "\n",
      "\n",
      "\n",
      "\u001b[5m\u001b[47m\u001b[36m**********************************************\u001b[0m\n",
      "\u001b[1m\u001b[43m\u001b[36m We expect to see that laura only applied to TAU\u001b[0m\n",
      "\n",
      "\n",
      "\n",
      "\n",
      "The latest companies that the candidate laura@gmail.com applied to\n",
      "[b'TAU']\n",
      "\n",
      "\n",
      "\n",
      "\u001b[5m\u001b[47m\u001b[36m**********************************************\u001b[0m\n",
      "\u001b[1m\u001b[43m\u001b[36m We expect to see that laura has the skills\u001b[0m\n",
      "\n",
      "\n",
      "\n",
      "\n",
      "List of Candidates that have the requiered skills for the job\n",
      "'laura@gmail.com'\n",
      "\n",
      "\n",
      "\n",
      "\u001b[5m\u001b[47m\u001b[36m**********************************************\u001b[0m\n",
      "\u001b[1m\u001b[43m\u001b[36m We expect to see that TAU has one job\u001b[0m\n",
      "\n",
      "\n",
      "\n",
      "\n",
      "Company Name: TAU. Number of jobs: 1\n",
      "\n",
      "\n",
      "\n",
      "\u001b[5m\u001b[47m\u001b[36m**********************************************\u001b[0m\n",
      "\u001b[1m\u001b[43m\u001b[36mLaura's application was more than 30 days ago, so we will not see any candidates per job, But if you\n",
      "         will change the application date to '17-04-2019' you will see results. just make sure that if you give this\n",
      "         date '04-03-2019' it means April 3rd not March 4th!\u001b[0m\n",
      "\n",
      "\n",
      "\n",
      "\n",
      "\n",
      "\n",
      "\n",
      "\u001b[5m\u001b[47m\u001b[36m**********************************************\u001b[0m\n",
      "\u001b[1m\u001b[43m\u001b[36m This is how the cache looks like at the moment\u001b[0m\n",
      "\n",
      "\n",
      "\n",
      "\n",
      "This is a sorted Array. The key is b'laura@gmail.com' the value is [b'TAU']\n",
      "This is a regular key. The key is b'TAU' the value is b'1'\n",
      "\n",
      "\n",
      "\n",
      "\u001b[5m\u001b[47m\u001b[36m**********************************************\u001b[0m\n",
      "\u001b[1m\u001b[43m\u001b[36m Now lets clear it and use the recovery function\u001b[0m\n",
      "\n",
      "\n",
      "\n",
      "\n",
      "This is a sorted Array. The key is b'laura@gmail.com' the value is [b'TAU']\n",
      "This is a regular key. The key is b'TAU' the value is b'1'\n",
      "\u001b[5m\u001b[47m\u001b[36m**********************************************\u001b[0m\n",
      "\u001b[1m\u001b[43m\u001b[36m Were back to business! Hope you enjoyed\u001b[0m\n"
     ]
    }
   ],
   "source": [
    "execute()"
   ]
  },
  {
   "cell_type": "markdown",
   "metadata": {},
   "source": [
    "\n",
    "## From here and on there are more tests with data that I have made up\n",
    "\n",
    "\n",
    "\n",
    "\n",
    "\n",
    "\n"
   ]
  },
  {
   "cell_type": "code",
   "execution_count": 823,
   "metadata": {},
   "outputs": [],
   "source": [
    "#Create Entities\n",
    "company1={'Entity': 'Company','companyName': 'Avantis', 'companyDescription': 'Adtech', 'jobsList': []}\n",
    "company2={'Entity': 'Company','companyName': 'Browsi', 'companyDescription': 'Adtech', 'jobsList': []}\n",
    "job1= { 'Entity': 'Job', 'jobName': 'BI-developer', 'requirementsList':['python','sql'], 'Location':None, 'publishDate':None, 'Status':None, 'candidateList':[] }\n",
    "job2= { 'Entity': 'Job', 'jobName': 'QA', 'requirementsList':[], 'Location':None, 'publishDate':None, 'Status':None, 'candidateList':[] } \n",
    "candidate1={'Entity': 'Candidate', 'candidateName':'laura', 'Email':'laura@gmail.com',\n",
    "'Linkedin':'https://www.linkedin.com/in/laura/', 'skills': ['python','sql']}\n",
    "candidate2={'Entity': 'Candidate', 'candidateName':'james', 'Email':'james@hotmail.com',\n",
    "'Linkedin':'https://www.linkedin.com/in/james/', 'skills': ['python']}\n",
    "candidate3={'Entity': 'Candidate', 'candidateName':'Andy', 'Email':'andy@hotmail.com',\n",
    "'Linkedin':'https://www.linkedin.com/in/andy/', 'skills': ['sql']}"
   ]
  },
  {
   "cell_type": "code",
   "execution_count": 824,
   "metadata": {},
   "outputs": [],
   "source": [
    "clear_cache()"
   ]
  },
  {
   "cell_type": "code",
   "execution_count": 825,
   "metadata": {},
   "outputs": [],
   "source": [
    "clear_collection() "
   ]
  },
  {
   "cell_type": "markdown",
   "metadata": {},
   "source": [
    "### Let's Add some companies "
   ]
  },
  {
   "cell_type": "code",
   "execution_count": 826,
   "metadata": {},
   "outputs": [],
   "source": [
    "add_company(company1)\n",
    "add_company(company2)\n",
    "add_company(company1) # This will not be added, duplicate company"
   ]
  },
  {
   "cell_type": "markdown",
   "metadata": {},
   "source": [
    "### We expect to have 2 companies:\n",
    "1. Browsi\n",
    "2. Avantis"
   ]
  },
  {
   "cell_type": "code",
   "execution_count": 827,
   "metadata": {},
   "outputs": [
    {
     "name": "stdout",
     "output_type": "stream",
     "text": [
      "{'Entity': 'Company',\n",
      " '_id': ObjectId('5cb7005ecea9397f17474e8d'),\n",
      " 'companyDescription': 'Adtech',\n",
      " 'companyName': 'Avantis',\n",
      " 'jobsList': []}\n",
      "{'Entity': 'Company',\n",
      " '_id': ObjectId('5cb7005ecea9397f17474e8f'),\n",
      " 'companyDescription': 'Adtech',\n",
      " 'companyName': 'Browsi',\n",
      " 'jobsList': []}\n"
     ]
    }
   ],
   "source": [
    "list_collection() "
   ]
  },
  {
   "cell_type": "markdown",
   "metadata": {},
   "source": [
    "### Let's Add some jobs"
   ]
  },
  {
   "cell_type": "code",
   "execution_count": 828,
   "metadata": {},
   "outputs": [
    {
     "name": "stdout",
     "output_type": "stream",
     "text": [
      "Invalid Company Name: Hive\n",
      "Valid Company Names are \n",
      "['Avantis', 'Browsi']\n"
     ]
    }
   ],
   "source": [
    "add_job(job1, 'Browsi')\n",
    "add_job(job2, 'Browsi')\n",
    "add_job(job1, 'Browsi') # It is possible to have the same job twice (maybe we need two QAs for example)\n",
    "add_job(job1, 'Avantis')\n",
    "add_job(job1, 'Hive') #This will not be added, invalid company name"
   ]
  },
  {
   "cell_type": "markdown",
   "metadata": {},
   "source": [
    "### We expect to have 4 jobs:\n",
    "3 for Browsi\n",
    "1 for Avantis"
   ]
  },
  {
   "cell_type": "code",
   "execution_count": 829,
   "metadata": {},
   "outputs": [
    {
     "name": "stdout",
     "output_type": "stream",
     "text": [
      "{'Entity': 'Company',\n",
      " '_id': ObjectId('5cb7005ecea9397f17474e8d'),\n",
      " 'companyDescription': 'Adtech',\n",
      " 'companyName': 'Avantis',\n",
      " 'jobsList': [{'Entity': 'Job',\n",
      "               'Location': None,\n",
      "               'Status': None,\n",
      "               'candidateList': [],\n",
      "               'jobId': 'Avantis_1',\n",
      "               'jobName': 'BI-developer',\n",
      "               'publishDate': None,\n",
      "               'requirementsList': ['python', 'sql']}]}\n",
      "{'Entity': 'Company',\n",
      " '_id': ObjectId('5cb7005ecea9397f17474e8f'),\n",
      " 'companyDescription': 'Adtech',\n",
      " 'companyName': 'Browsi',\n",
      " 'jobsList': [{'Entity': 'Job',\n",
      "               'Location': None,\n",
      "               'Status': None,\n",
      "               'candidateList': [],\n",
      "               'jobId': 'Browsi_1',\n",
      "               'jobName': 'BI-developer',\n",
      "               'publishDate': None,\n",
      "               'requirementsList': ['python', 'sql']},\n",
      "              {'Entity': 'Job',\n",
      "               'Location': None,\n",
      "               'Status': None,\n",
      "               'candidateList': [],\n",
      "               'jobId': 'Browsi_2',\n",
      "               'jobName': 'QA',\n",
      "               'publishDate': None,\n",
      "               'requirementsList': []},\n",
      "              {'Entity': 'Job',\n",
      "               'Location': None,\n",
      "               'Status': None,\n",
      "               'candidateList': [],\n",
      "               'jobId': 'Browsi_3',\n",
      "               'jobName': 'BI-developer',\n",
      "               'publishDate': None,\n",
      "               'requirementsList': ['python', 'sql']}]}\n"
     ]
    }
   ],
   "source": [
    "list_collection() "
   ]
  },
  {
   "cell_type": "markdown",
   "metadata": {},
   "source": [
    "### Let's check the cache:\n",
    "we expect to see:\n",
    "Avanits-1\n",
    "Browsi-3"
   ]
  },
  {
   "cell_type": "code",
   "execution_count": 830,
   "metadata": {},
   "outputs": [
    {
     "name": "stdout",
     "output_type": "stream",
     "text": [
      "This is a regular key. The key is b'Avantis' the value is b'1'\n",
      "This is a regular key. The key is b'Browsi' the value is b'3'\n"
     ]
    }
   ],
   "source": [
    "list_cache() "
   ]
  },
  {
   "cell_type": "markdown",
   "metadata": {},
   "source": [
    "### Let's add some candidates"
   ]
  },
  {
   "cell_type": "code",
   "execution_count": 831,
   "metadata": {},
   "outputs": [
    {
     "name": "stdout",
     "output_type": "stream",
     "text": [
      "laura@gmail.com Has already registered for this position\n"
     ]
    }
   ],
   "source": [
    "application(candidate1, '17-02-2019 16:00:00', \"Avantis_1\")\n",
    "application(candidate1, '15-04-2019 17:00:00', \"Avantis_1\") # should not be added, already apllied for job\n"
   ]
  },
  {
   "cell_type": "markdown",
   "metadata": {},
   "source": [
    "### We expect to see one candidate (Laura) that  is added "
   ]
  },
  {
   "cell_type": "code",
   "execution_count": 832,
   "metadata": {},
   "outputs": [
    {
     "name": "stdout",
     "output_type": "stream",
     "text": [
      "{'Entity': 'Company',\n",
      " '_id': ObjectId('5cb7005ecea9397f17474e8d'),\n",
      " 'companyDescription': 'Adtech',\n",
      " 'companyName': 'Avantis',\n",
      " 'jobsList': [{'Entity': 'Job',\n",
      "               'Location': None,\n",
      "               'Status': None,\n",
      "               'candidateList': [{'Email': 'laura@gmail.com',\n",
      "                                  'Entity': 'Candidate',\n",
      "                                  'Linkedin': 'https://www.linkedin.com/in/laura/',\n",
      "                                  'candidateName': 'laura',\n",
      "                                  'skills': ['python', 'sql'],\n",
      "                                  'updatedAt': datetime.datetime(2019, 2, 17, 16, 0)}],\n",
      "               'jobId': 'Avantis_1',\n",
      "               'jobName': 'BI-developer',\n",
      "               'publishDate': None,\n",
      "               'requirementsList': ['python', 'sql']}]}\n",
      "{'Entity': 'Company',\n",
      " '_id': ObjectId('5cb7005ecea9397f17474e8f'),\n",
      " 'companyDescription': 'Adtech',\n",
      " 'companyName': 'Browsi',\n",
      " 'jobsList': [{'Entity': 'Job',\n",
      "               'Location': None,\n",
      "               'Status': None,\n",
      "               'candidateList': [],\n",
      "               'jobId': 'Browsi_1',\n",
      "               'jobName': 'BI-developer',\n",
      "               'publishDate': None,\n",
      "               'requirementsList': ['python', 'sql']},\n",
      "              {'Entity': 'Job',\n",
      "               'Location': None,\n",
      "               'Status': None,\n",
      "               'candidateList': [],\n",
      "               'jobId': 'Browsi_2',\n",
      "               'jobName': 'QA',\n",
      "               'publishDate': None,\n",
      "               'requirementsList': []},\n",
      "              {'Entity': 'Job',\n",
      "               'Location': None,\n",
      "               'Status': None,\n",
      "               'candidateList': [],\n",
      "               'jobId': 'Browsi_3',\n",
      "               'jobName': 'BI-developer',\n",
      "               'publishDate': None,\n",
      "               'requirementsList': ['python', 'sql']}]}\n"
     ]
    }
   ],
   "source": [
    "list_collection() # We expect to sone candidate (laura) added to Avantis_1 job"
   ]
  },
  {
   "cell_type": "markdown",
   "metadata": {},
   "source": [
    "### Let's add some more candidates to different positions"
   ]
  },
  {
   "cell_type": "code",
   "execution_count": 833,
   "metadata": {},
   "outputs": [],
   "source": [
    "application(candidate3, '13-02-2019 18:00:00', \"Avantis_1\") #andy\n",
    "application(candidate2, '13-04-2019 18:00:00', \"Browsi_2\") #james\n",
    "application(candidate2, '14-04-2019 18:00:00', \"Browsi_1\") #james\n",
    "application(candidate1, '16-03-2019 18:00:00', \"Browsi_1\") #laura"
   ]
  },
  {
   "cell_type": "markdown",
   "metadata": {},
   "source": [
    "### We expect to see 5 candidates:\n",
    "Laura, Anday for BI-developer at Avantis ; Laura, James for BI-developer at Browsi ; James for QA at Browsi"
   ]
  },
  {
   "cell_type": "code",
   "execution_count": 834,
   "metadata": {},
   "outputs": [
    {
     "name": "stdout",
     "output_type": "stream",
     "text": [
      "{'Entity': 'Company',\n",
      " '_id': ObjectId('5cb7005ecea9397f17474e8d'),\n",
      " 'companyDescription': 'Adtech',\n",
      " 'companyName': 'Avantis',\n",
      " 'jobsList': [{'Entity': 'Job',\n",
      "               'Location': None,\n",
      "               'Status': None,\n",
      "               'candidateList': [{'Email': 'laura@gmail.com',\n",
      "                                  'Entity': 'Candidate',\n",
      "                                  'Linkedin': 'https://www.linkedin.com/in/laura/',\n",
      "                                  'candidateName': 'laura',\n",
      "                                  'skills': ['python', 'sql'],\n",
      "                                  'updatedAt': datetime.datetime(2019, 2, 17, 16, 0)},\n",
      "                                 {'Email': 'andy@hotmail.com',\n",
      "                                  'Entity': 'Candidate',\n",
      "                                  'Linkedin': 'https://www.linkedin.com/in/andy/',\n",
      "                                  'candidateName': 'Andy',\n",
      "                                  'skills': ['sql'],\n",
      "                                  'updatedAt': datetime.datetime(2019, 2, 13, 18, 0)}],\n",
      "               'jobId': 'Avantis_1',\n",
      "               'jobName': 'BI-developer',\n",
      "               'publishDate': None,\n",
      "               'requirementsList': ['python', 'sql']}]}\n",
      "{'Entity': 'Company',\n",
      " '_id': ObjectId('5cb7005ecea9397f17474e8f'),\n",
      " 'companyDescription': 'Adtech',\n",
      " 'companyName': 'Browsi',\n",
      " 'jobsList': [{'Entity': 'Job',\n",
      "               'Location': None,\n",
      "               'Status': None,\n",
      "               'candidateList': [{'Email': 'james@hotmail.com',\n",
      "                                  'Entity': 'Candidate',\n",
      "                                  'Linkedin': 'https://www.linkedin.com/in/james/',\n",
      "                                  'candidateName': 'james',\n",
      "                                  'skills': ['python'],\n",
      "                                  'updatedAt': datetime.datetime(2019, 4, 14, 18, 0)},\n",
      "                                 {'Email': 'laura@gmail.com',\n",
      "                                  'Entity': 'Candidate',\n",
      "                                  'Linkedin': 'https://www.linkedin.com/in/laura/',\n",
      "                                  'candidateName': 'laura',\n",
      "                                  'skills': ['python', 'sql'],\n",
      "                                  'updatedAt': datetime.datetime(2019, 3, 16, 18, 0)}],\n",
      "               'jobId': 'Browsi_1',\n",
      "               'jobName': 'BI-developer',\n",
      "               'publishDate': None,\n",
      "               'requirementsList': ['python', 'sql']},\n",
      "              {'Entity': 'Job',\n",
      "               'Location': None,\n",
      "               'Status': None,\n",
      "               'candidateList': [{'Email': 'james@hotmail.com',\n",
      "                                  'Entity': 'Candidate',\n",
      "                                  'Linkedin': 'https://www.linkedin.com/in/james/',\n",
      "                                  'candidateName': 'james',\n",
      "                                  'skills': ['python'],\n",
      "                                  'updatedAt': datetime.datetime(2019, 4, 13, 18, 0)}],\n",
      "               'jobId': 'Browsi_2',\n",
      "               'jobName': 'QA',\n",
      "               'publishDate': None,\n",
      "               'requirementsList': []},\n",
      "              {'Entity': 'Job',\n",
      "               'Location': None,\n",
      "               'Status': None,\n",
      "               'candidateList': [],\n",
      "               'jobId': 'Browsi_3',\n",
      "               'jobName': 'BI-developer',\n",
      "               'publishDate': None,\n",
      "               'requirementsList': ['python', 'sql']}]}\n"
     ]
    }
   ],
   "source": [
    "list_collection() "
   ]
  },
  {
   "cell_type": "markdown",
   "metadata": {},
   "source": [
    "### Let's check The cache"
   ]
  },
  {
   "cell_type": "markdown",
   "metadata": {},
   "source": [
    "### We expect to see Laura--> ['Browsi', 'Avantis'] ; James --> ['Browsi'] ; Andy->['Avantis']"
   ]
  },
  {
   "cell_type": "code",
   "execution_count": 835,
   "metadata": {},
   "outputs": [
    {
     "name": "stdout",
     "output_type": "stream",
     "text": [
      "This is a regular key. The key is b'Avantis' the value is b'1'\n",
      "This is a sorted Array. The key is b'james@hotmail.com' the value is [b'Browsi']\n",
      "This is a sorted Array. The key is b'laura@gmail.com' the value is [b'Browsi', b'Avantis']\n",
      "This is a sorted Array. The key is b'andy@hotmail.com' the value is [b'Avantis']\n",
      "This is a regular key. The key is b'Browsi' the value is b'3'\n"
     ]
    }
   ],
   "source": [
    "list_cache() "
   ]
  },
  {
   "cell_type": "markdown",
   "metadata": {},
   "source": [
    "### We expect to see [Browsi, Avantis ] for Laura"
   ]
  },
  {
   "cell_type": "code",
   "execution_count": 836,
   "metadata": {},
   "outputs": [
    {
     "name": "stdout",
     "output_type": "stream",
     "text": [
      "The latest companies that the candidate laura@gmail.com applied to\n",
      "[b'Browsi', b'Avantis']\n"
     ]
    }
   ],
   "source": [
    "show_latest_apply(10, candidate1['Email']) "
   ]
  },
  {
   "cell_type": "markdown",
   "metadata": {},
   "source": [
    "#### We expect to see only Laura since she is the only one that knows SQL from all the Browsi- BI Developer candidates"
   ]
  },
  {
   "cell_type": "code",
   "execution_count": 838,
   "metadata": {},
   "outputs": [
    {
     "name": "stdout",
     "output_type": "stream",
     "text": [
      "List of Candidates that have the requiered skills for the job\n",
      "'laura@gmail.com'\n"
     ]
    }
   ],
   "source": [
    "show_candidates('Browsi_1', ['sql']) \n",
    "    "
   ]
  },
  {
   "cell_type": "markdown",
   "metadata": {},
   "source": [
    "#### We expect to see only Laura since she is the only one that knows SQL **AND * * Python from all the Browsi- BI Developer candidates"
   ]
  },
  {
   "cell_type": "code",
   "execution_count": 839,
   "metadata": {},
   "outputs": [
    {
     "name": "stdout",
     "output_type": "stream",
     "text": [
      "List of Candidates that have the requiered skills for the job\n",
      "'laura@gmail.com'\n"
     ]
    }
   ],
   "source": [
    "show_candidates('Browsi_1', ['sql', 'python']) #we expect to see laura\n"
   ]
  },
  {
   "cell_type": "markdown",
   "metadata": {},
   "source": [
    "#### We expect to see only both Laura and James since they both know Python"
   ]
  },
  {
   "cell_type": "code",
   "execution_count": 840,
   "metadata": {},
   "outputs": [
    {
     "name": "stdout",
     "output_type": "stream",
     "text": [
      "List of Candidates that have the requiered skills for the job\n",
      "'james@hotmail.com'\n",
      "'laura@gmail.com'\n"
     ]
    }
   ],
   "source": [
    "show_candidates('Browsi_1', ['python']) #we expect to see laura and james\n"
   ]
  },
  {
   "cell_type": "markdown",
   "metadata": {},
   "source": [
    "#### We expect to see nobody, since there is no candidate that knows Java for this position"
   ]
  },
  {
   "cell_type": "code",
   "execution_count": 841,
   "metadata": {},
   "outputs": [
    {
     "name": "stdout",
     "output_type": "stream",
     "text": [
      "List of Candidates that have the requiered skills for the job\n"
     ]
    }
   ],
   "source": [
    "show_candidates('Browsi_1', ['python','sql', 'java']) #we expect to see nobody\n"
   ]
  },
  {
   "cell_type": "markdown",
   "metadata": {},
   "source": [
    "#### Same thing for these two examples"
   ]
  },
  {
   "cell_type": "code",
   "execution_count": 842,
   "metadata": {},
   "outputs": [
    {
     "name": "stdout",
     "output_type": "stream",
     "text": [
      "List of Candidates that have the requiered skills for the job\n"
     ]
    }
   ],
   "source": [
    "show_candidates('Browsi_3', ['python']) #we expect to see nobody\n"
   ]
  },
  {
   "cell_type": "code",
   "execution_count": 843,
   "metadata": {},
   "outputs": [
    {
     "name": "stdout",
     "output_type": "stream",
     "text": [
      "List of Candidates that have the requiered skills for the job\n"
     ]
    }
   ],
   "source": [
    "show_candidates('Browsi_2', ['sql']) #we expect to see nobody\n"
   ]
  },
  {
   "cell_type": "markdown",
   "metadata": {},
   "source": [
    "#### We expect to see only James since he is the only candidate for Browsi-QA position, and he knows Python."
   ]
  },
  {
   "cell_type": "code",
   "execution_count": 844,
   "metadata": {},
   "outputs": [
    {
     "name": "stdout",
     "output_type": "stream",
     "text": [
      "List of Candidates that have the requiered skills for the job\n",
      "'james@hotmail.com'\n"
     ]
    }
   ],
   "source": [
    "show_candidates('Browsi_2', ['python']) #we expect to see james\n"
   ]
  },
  {
   "cell_type": "markdown",
   "metadata": {},
   "source": [
    "### Let's count jobs by company"
   ]
  },
  {
   "cell_type": "markdown",
   "metadata": {},
   "source": [
    "#### We Expect to see 1 job for Avantis, 3 jobs for Browsi"
   ]
  },
  {
   "cell_type": "code",
   "execution_count": 845,
   "metadata": {},
   "outputs": [
    {
     "name": "stdout",
     "output_type": "stream",
     "text": [
      "Company Name: Avantis. Number of jobs: 1\n",
      "Company Name: Browsi. Number of jobs: 3\n"
     ]
    }
   ],
   "source": [
    "count_jobs_by_company() # We expect to see Avantis :1 Browsi: 3"
   ]
  },
  {
   "cell_type": "markdown",
   "metadata": {},
   "source": [
    "### Let's check Candidates by job (only candidates that applied in the last 30 days)"
   ]
  },
  {
   "cell_type": "markdown",
   "metadata": {},
   "source": [
    "#### We expect to see one candidate for Browsi-BI developer and one candidate for Browsi-QA"
   ]
  },
  {
   "cell_type": "markdown",
   "metadata": {},
   "source": [
    "#### Applications for Avantis- Bi developer were too old, and also Laura's application for Browsi-BI developer. Leaving us with 2"
   ]
  },
  {
   "cell_type": "code",
   "execution_count": 699,
   "metadata": {},
   "outputs": [
    {
     "name": "stdout",
     "output_type": "stream",
     "text": [
      "{'_id': 'Browsi_2', 'numOfCandidatesLastMonth': 1}\n",
      "{'_id': 'Browsi_1', 'numOfCandidatesLastMonth': 1}\n"
     ]
    }
   ],
   "source": [
    "count_candidates_by_job() #We expect Avantis 1--> 0 Browsi1--> 1 Browsi2--> 1 Browsi3-->0"
   ]
  },
  {
   "cell_type": "markdown",
   "metadata": {},
   "source": [
    "### Let's check our cache again"
   ]
  },
  {
   "cell_type": "code",
   "execution_count": 846,
   "metadata": {},
   "outputs": [
    {
     "name": "stdout",
     "output_type": "stream",
     "text": [
      "This is a regular key. The key is b'Avantis' the value is b'1'\n",
      "This is a sorted Array. The key is b'james@hotmail.com' the value is [b'Browsi']\n",
      "This is a sorted Array. The key is b'laura@gmail.com' the value is [b'Browsi', b'Avantis']\n",
      "This is a sorted Array. The key is b'andy@hotmail.com' the value is [b'Avantis']\n",
      "This is a regular key. The key is b'Browsi' the value is b'3'\n"
     ]
    }
   ],
   "source": [
    "list_cache()"
   ]
  },
  {
   "cell_type": "markdown",
   "metadata": {},
   "source": [
    "#### Let's clear and recover"
   ]
  },
  {
   "cell_type": "code",
   "execution_count": 847,
   "metadata": {},
   "outputs": [],
   "source": [
    "clear_cache()"
   ]
  },
  {
   "cell_type": "code",
   "execution_count": 848,
   "metadata": {},
   "outputs": [],
   "source": [
    "recovery()"
   ]
  },
  {
   "cell_type": "markdown",
   "metadata": {},
   "source": [
    "#### Let's check the cache again"
   ]
  },
  {
   "cell_type": "code",
   "execution_count": 849,
   "metadata": {},
   "outputs": [
    {
     "name": "stdout",
     "output_type": "stream",
     "text": [
      "This is a regular key. The key is b'Avantis' the value is b'1'\n",
      "This is a sorted Array. The key is b'james@hotmail.com' the value is [b'Browsi']\n",
      "This is a sorted Array. The key is b'andy@hotmail.com' the value is [b'Avantis']\n",
      "This is a sorted Array. The key is b'laura@gmail.com' the value is [b'Browsi', b'Avantis']\n",
      "This is a regular key. The key is b'Browsi' the value is b'3'\n"
     ]
    }
   ],
   "source": [
    "list_cache() # We expcet to see the same cache"
   ]
  },
  {
   "cell_type": "markdown",
   "metadata": {},
   "source": [
    "### The cache is back to biz"
   ]
  },
  {
   "cell_type": "code",
   "execution_count": null,
   "metadata": {},
   "outputs": [],
   "source": []
  }
 ],
 "metadata": {
  "kernelspec": {
   "display_name": "Python 3",
   "language": "python",
   "name": "python3"
  },
  "language_info": {
   "codemirror_mode": {
    "name": "ipython",
    "version": 3
   },
   "file_extension": ".py",
   "mimetype": "text/x-python",
   "name": "python",
   "nbconvert_exporter": "python",
   "pygments_lexer": "ipython3",
   "version": "3.5.3"
  }
 },
 "nbformat": 4,
 "nbformat_minor": 2
}
